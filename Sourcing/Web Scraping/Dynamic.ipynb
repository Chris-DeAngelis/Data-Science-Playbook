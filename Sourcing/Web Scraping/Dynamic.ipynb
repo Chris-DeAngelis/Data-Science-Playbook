{
 "cells": [
  {
   "cell_type": "markdown",
   "id": "5423711f-414d-4534-b25b-a265c416afbd",
   "metadata": {},
   "source": [
    "# The purpose of this notebook is to cover techniques related to searching dynamic web pages (Javascript execution)"
   ]
  },
  {
   "cell_type": "code",
   "execution_count": 14,
   "id": "b294f63a-f730-4f9d-a27d-ce3bf965fee6",
   "metadata": {},
   "outputs": [
    {
     "name": "stderr",
     "output_type": "stream",
     "text": [
      "\n",
      "\n",
      "====== WebDriver manager ======\n",
      "Current firefox version is 98.0\n",
      "Get LATEST geckodriver version for 98.0 firefox\n",
      "Driver [C:\\Users\\chris.deangelis\\.wdm\\drivers\\geckodriver\\win64\\v0.31.0\\geckodriver.exe] found in cache\n",
      "<ipython-input-14-8e5f06c2725e>:5: DeprecationWarning: executable_path has been deprecated, please pass in a Service object\n",
      "  driver = webdriver.Firefox(executable_path=GeckoDriverManager().install()) # Code 3\n"
     ]
    }
   ],
   "source": [
    "from selenium.webdriver import Firefox\n",
    "from selenium.webdriver.firefox.options import Options\n",
    "from selenium import webdriver\n",
    "from webdriver_manager.firefox import GeckoDriverManager\n",
    "driver = webdriver.Firefox(executable_path=GeckoDriverManager().install())\n",
    "\n",
    "options = Options()\n",
    "options.headless = True\n",
    "#assert opts.headless  # Operating in headless mode\n",
    "\n",
    "url = 'https://en.wikipedia.org/wiki/National_Football_League'\n",
    "def read_url(url):\n",
    "    driver = Firefox(options=options)\n",
    "    driver.maximize_window()\n",
    "    driver.get(url)\n",
    "    \n",
    "#browser = Firefox(options=opts)\n",
    "#browser.get('https://duckduckgo.com')"
   ]
  },
  {
   "cell_type": "code",
   "execution_count": null,
   "id": "50dcee18-1d30-463f-ba04-a66b0c93ea5d",
   "metadata": {},
   "outputs": [],
   "source": []
  }
 ],
 "metadata": {
  "kernelspec": {
   "display_name": "Python 3",
   "language": "python",
   "name": "python3"
  },
  "language_info": {
   "codemirror_mode": {
    "name": "ipython",
    "version": 3
   },
   "file_extension": ".py",
   "mimetype": "text/x-python",
   "name": "python",
   "nbconvert_exporter": "python",
   "pygments_lexer": "ipython3",
   "version": "3.8.5"
  }
 },
 "nbformat": 4,
 "nbformat_minor": 5
}
